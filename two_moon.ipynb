{
 "cells": [
  {
   "cell_type": "code",
   "execution_count": 6,
   "metadata": {
    "collapsed": true,
    "pycharm": {
     "is_executing": false
    }
   },
   "outputs": [
    {
     "name": "stderr",
     "text": [
      "/Users/peixiaoqi/anaconda3/lib/python3.7/site-packages/sklearn/feature_extraction/image.py:167: DeprecationWarning: `np.int` is a deprecated alias for the builtin `int`. To silence this warning, use `int` by itself. Doing this will not modify any behavior and is safe. When replacing `np.int`, you may wish to use e.g. `np.int64` or `np.int32` to specify the precision. If you wish to review your current use, check the release note link for additional information.\nDeprecated in NumPy 1.20; for more details and guidance: https://numpy.org/devdocs/release/1.20.0-notes.html#deprecations\n  dtype=np.int):\n",
      "/Users/peixiaoqi/anaconda3/lib/python3.7/site-packages/statsmodels/tools/_testing.py:19: FutureWarning: pandas.util.testing is deprecated. Use the functions in the public API at pandas.testing instead.\n  import pandas.util.testing as tm\n"
     ],
     "output_type": "stream"
    }
   ],
   "source": [
    "import torch\n",
    "import torch.utils.data\n",
    "from torch import nn\n",
    "from torch.nn import functional as F\n",
    "\n",
    "from ignite.engine import Events, Engine\n",
    "from ignite.metrics import Accuracy, Loss\n",
    "\n",
    "import numpy as np\n",
    "import sklearn.datasets\n",
    "\n",
    "import matplotlib.pyplot as plt\n",
    "import seaborn as sns\n",
    "\n",
    "sns.set()\n"
   ]
  },
  {
   "cell_type": "code",
   "execution_count": 7,
   "outputs": [],
   "source": [
    "class Model_bilinear(nn.Module):\n",
    "    def __init__(self, features, num_embeddings):\n",
    "        super().__init__()\n",
    "        \n",
    "        self.gamma = 0.99\n",
    "        self.sigma = 0.3\n",
    "        \n",
    "        embedding_size = 10\n",
    "        \n",
    "        self.fc1 = nn.Linear(2, features)\n",
    "        self.fc2 = nn.Linear(features, features)\n",
    "        self.fc3 = nn.Linear(features, features)\n",
    "        \n",
    "        self.W = nn.Parameter(torch.normal(torch.zeros(embedding_size, num_embeddings, features), 1))\n",
    "        \n",
    "        self.register_buffer('N', torch.ones(num_embeddings) * 20)\n",
    "        self.register_buffer('m', torch.normal(torch.zeros(embedding_size, num_embeddings), 1))\n",
    "        \n",
    "        self.m = self.m * self.N.unsqueeze(0)\n",
    "\n",
    "    def embed(self, x):\n",
    "        x = F.relu(self.fc1(x))\n",
    "        x = F.relu(self.fc2(x))\n",
    "        x = self.fc3(x)\n",
    "        \n",
    "        # i is batch, m is embedding_size, n is num_embeddings (classes)\n",
    "        x = torch.einsum('ij,mnj->imn', x, self.W)\n",
    "        \n",
    "        return x\n",
    "\n",
    "    def bilinear(self, z):\n",
    "        embeddings = self.m / self.N.unsqueeze(0)\n",
    "        \n",
    "        diff = z - embeddings.unsqueeze(0)            \n",
    "        y_pred = (- diff**2).mean(1).div(2 * self.sigma**2).exp()\n",
    "\n",
    "        return y_pred\n",
    "\n",
    "    def forward(self, x):\n",
    "        z = self.embed(x)\n",
    "        y_pred = self.bilinear(z)\n",
    "        \n",
    "        return z, y_pred\n",
    "\n",
    "    def update_embeddings(self, x, y):\n",
    "        z = self.embed(x)\n",
    "        \n",
    "        # normalizing value per class, assumes y is one_hot encoded\n",
    "        self.N = torch.max(self.gamma * self.N + (1 - self.gamma) * y.sum(0), torch.ones_like(self.N))\n",
    "        \n",
    "        # compute sum of embeddings on class by class basis\n",
    "        features_sum = torch.einsum('ijk,ik->jk', z, y)\n",
    "        \n",
    "        self.m = self.gamma * self.m + (1 - self.gamma) * features_sum\n",
    "\n",
    "\n"
   ],
   "metadata": {
    "collapsed": false,
    "pycharm": {
     "name": "#%%\n",
     "is_executing": false
    }
   }
  },
  {
   "cell_type": "code",
   "execution_count": 8,
   "outputs": [],
   "source": [
    "np.random.seed(0)\n",
    "torch.manual_seed(0)\n",
    "\n",
    "l_gradient_penalty = 1.0\n",
    "\n",
    "# Moons\n",
    "noise = 0.1\n",
    "X_train, y_train = sklearn.datasets.make_moons(n_samples=1500, noise=noise)\n",
    "X_test, y_test = sklearn.datasets.make_moons(n_samples=200, noise=noise)\n",
    "\n",
    "num_classes = 2\n",
    "batch_size = 64\n",
    "\n",
    "model = Model_bilinear(20, num_classes)\n",
    "\n",
    "optimizer = torch.optim.SGD(model.parameters(), lr=0.01, momentum=0.9, weight_decay=1e-4)\n",
    "\n",
    "\n",
    "def calc_gradient_penalty(x, y_pred):\n",
    "    gradients = torch.autograd.grad(\n",
    "            outputs=y_pred,\n",
    "            inputs=x,\n",
    "            grad_outputs=torch.ones_like(y_pred),\n",
    "            create_graph=True,\n",
    "        )[0]\n",
    "\n",
    "\n",
    "    gradients = gradients.flatten(start_dim=1)\n",
    "    \n",
    "    # L2 norm\n",
    "    grad_norm = gradients.norm(2, dim=1)\n",
    "\n",
    "    # Two sided penalty\n",
    "    gradient_penalty = ((grad_norm - 1) ** 2).mean()\n",
    "    \n",
    "    # One sided penalty - down\n",
    "#     gradient_penalty = F.relu(grad_norm - 1).mean()\n",
    "\n",
    "    return gradient_penalty\n",
    "\n",
    "\n",
    "def output_transform_acc(output):\n",
    "    y_pred, y, x, z = output\n",
    "    \n",
    "    y = torch.argmax(y, dim=1)\n",
    "        \n",
    "    return y_pred, y\n",
    "\n",
    "\n",
    "def output_transform_bce(output):\n",
    "    y_pred, y, x, z = output\n",
    "\n",
    "    return y_pred, y\n",
    "\n",
    "\n",
    "def output_transform_gp(output):\n",
    "    y_pred, y, x, z = output\n",
    "\n",
    "    return x, y_pred\n",
    "\n",
    "\n",
    "def step(engine, batch):\n",
    "    model.train()\n",
    "    optimizer.zero_grad()\n",
    "    \n",
    "    x, y = batch\n",
    "    x.requires_grad_(True)\n",
    "    \n",
    "    z, y_pred = model(x)\n",
    "    \n",
    "    loss1 =  F.binary_cross_entropy(y_pred, y)\n",
    "    loss2 = l_gradient_penalty * calc_gradient_penalty(x, y_pred)\n",
    "    \n",
    "    loss = loss1 + loss2\n",
    "    \n",
    "    loss.backward()\n",
    "    optimizer.step()\n",
    "    \n",
    "    with torch.no_grad():\n",
    "        model.update_embeddings(x, y)\n",
    "    \n",
    "    return loss.item()\n",
    "\n",
    "\n",
    "def eval_step(engine, batch):\n",
    "    model.eval()\n",
    "\n",
    "    x, y = batch\n",
    "\n",
    "    x.requires_grad_(True)\n",
    "\n",
    "    z, y_pred = model(x)\n",
    "\n",
    "    return y_pred, y, x, z\n",
    "    \n",
    "\n",
    "trainer = Engine(step)\n",
    "evaluator = Engine(eval_step)\n",
    "\n",
    "metric = Accuracy(output_transform=output_transform_acc)\n",
    "metric.attach(evaluator, \"accuracy\")\n",
    "\n",
    "metric = Loss(F.binary_cross_entropy, output_transform=output_transform_bce)\n",
    "metric.attach(evaluator, \"bce\")\n",
    "\n",
    "metric = Loss(calc_gradient_penalty, output_transform=output_transform_gp)\n",
    "metric.attach(evaluator, \"gp\")\n",
    "\n",
    "\n",
    "ds_train = torch.utils.data.TensorDataset(torch.from_numpy(X_train).float(), F.one_hot(torch.from_numpy(y_train)).float())\n",
    "dl_train = torch.utils.data.DataLoader(ds_train, batch_size=batch_size, shuffle=True, drop_last=True)\n",
    "\n",
    "ds_test = torch.utils.data.TensorDataset(torch.from_numpy(X_test).float(), F.one_hot(torch.from_numpy(y_test)).float())\n",
    "dl_test = torch.utils.data.DataLoader(ds_test, batch_size=200, shuffle=False)\n",
    "\n",
    "@trainer.on(Events.EPOCH_COMPLETED)\n",
    "def log_results(trainer):\n",
    "    evaluator.run(dl_test)\n",
    "    metrics = evaluator.state.metrics\n",
    "\n",
    "    print(\"Test Results - Epoch: {} Acc: {:.4f} BCE: {:.2f} GP {:.2f}\"\n",
    "          .format(trainer.state.epoch, metrics['accuracy'], metrics['bce'], metrics['gp']))"
   ],
   "metadata": {
    "collapsed": false,
    "pycharm": {
     "name": "#%%\n",
     "is_executing": false
    }
   }
  },
  {
   "cell_type": "code",
   "execution_count": 9,
   "outputs": [
    {
     "name": "stdout",
     "text": [
      "Test Results - Epoch: 1 Acc: 0.8350 BCE: 0.47 GP 0.21\nTest Results - Epoch: 2 Acc: 0.8750 BCE: 0.36 GP 0.12\nTest Results - Epoch: 3 Acc: 0.8950 BCE: 0.30 GP 0.06\n",
      "Test Results - Epoch: 4 Acc: 0.9400 BCE: 0.22 GP 0.06\nTest Results - Epoch: 5 Acc: 0.9700 BCE: 0.16 GP 0.08\nTest Results - Epoch: 6 Acc: 0.9750 BCE: 0.17 GP 0.08\nTest Results - Epoch: 7 Acc: 0.9800 BCE: 0.14 GP 0.05\n",
      "Test Results - Epoch: 8 Acc: 0.9950 BCE: 0.12 GP 0.03\n",
      "Test Results - Epoch: 9 Acc: 0.9950 BCE: 0.12 GP 0.04\nTest Results - Epoch: 10 Acc: 0.9900 BCE: 0.11 GP 0.04\nTest Results - Epoch: 11 Acc: 0.9900 BCE: 0.11 GP 0.03\n",
      "Test Results - Epoch: 12 Acc: 1.0000 BCE: 0.10 GP 0.04\n",
      "Test Results - Epoch: 13 Acc: 0.9900 BCE: 0.11 GP 0.03\nTest Results - Epoch: 14 Acc: 0.9950 BCE: 0.10 GP 0.03\nTest Results - Epoch: 15 Acc: 0.9950 BCE: 0.09 GP 0.02\n",
      "Test Results - Epoch: 16 Acc: 1.0000 BCE: 0.09 GP 0.08\nTest Results - Epoch: 17 Acc: 0.9950 BCE: 0.09 GP 0.04\n",
      "Test Results - Epoch: 18 Acc: 0.9950 BCE: 0.10 GP 0.04\nTest Results - Epoch: 19 Acc: 1.0000 BCE: 0.10 GP 0.04\nTest Results - Epoch: 20 Acc: 0.9950 BCE: 0.10 GP 0.04\nTest Results - Epoch: 21 Acc: 0.9950 BCE: 0.09 GP 0.04\n",
      "Test Results - Epoch: 22 Acc: 0.9950 BCE: 0.09 GP 0.02\n",
      "Test Results - Epoch: 23 Acc: 1.0000 BCE: 0.08 GP 0.03\nTest Results - Epoch: 24 Acc: 1.0000 BCE: 0.10 GP 0.03\n",
      "Test Results - Epoch: 25 Acc: 1.0000 BCE: 0.09 GP 0.03\n",
      "Test Results - Epoch: 26 Acc: 1.0000 BCE: 0.08 GP 0.03\nTest Results - Epoch: 27 Acc: 1.0000 BCE: 0.09 GP 0.03\nTest Results - Epoch: 28 Acc: 0.9950 BCE: 0.08 GP 0.02\n",
      "Test Results - Epoch: 29 Acc: 1.0000 BCE: 0.08 GP 0.04\nTest Results - Epoch: 30 Acc: 0.9950 BCE: 0.08 GP 0.03\n"
     ],
     "output_type": "stream"
    },
    {
     "data": {
      "text/plain": "State:\n\titeration: 690\n\tepoch: 30\n\tepoch_length: 23\n\tmax_epochs: 30\n\toutput: 0.0953315794467926\n\tbatch: <class 'list'>\n\tmetrics: <class 'dict'>\n\tdataloader: <class 'torch.utils.data.dataloader.DataLoader'>\n\tseed: <class 'NoneType'>\n\ttimes: <class 'dict'>"
     },
     "metadata": {},
     "output_type": "execute_result",
     "execution_count": 9
    }
   ],
   "source": [
    "trainer.run(dl_train, max_epochs=30)\n"
   ],
   "metadata": {
    "collapsed": false,
    "pycharm": {
     "name": "#%%\n",
     "is_executing": false
    }
   }
  },
  {
   "cell_type": "code",
   "execution_count": 14,
   "outputs": [
    {
     "name": "stdout",
     "text": [
      "[[-2.5        -2.43939394 -2.37878788 ...  3.37878788  3.43939394\n   3.5       ]\n [-2.5        -2.43939394 -2.37878788 ...  3.37878788  3.43939394\n   3.5       ]\n [-2.5        -2.43939394 -2.37878788 ...  3.37878788  3.43939394\n   3.5       ]\n ...\n [-2.5        -2.43939394 -2.37878788 ...  3.37878788  3.43939394\n   3.5       ]\n [-2.5        -2.43939394 -2.37878788 ...  3.37878788  3.43939394\n   3.5       ]\n [-2.5        -2.43939394 -2.37878788 ...  3.37878788  3.43939394\n   3.5       ]]\ntensor([[8.3766e-08, 1.6988e-11],\n        [5.3738e-08, 3.6452e-11],\n        [3.2897e-08, 7.6128e-11],\n        ...,\n        [1.6890e-03, 5.9990e-02],\n        [1.0833e-03, 7.3992e-02],\n        [6.8046e-04, 8.8726e-02]])\n[[8.37655278e-08 5.37381126e-08 3.28974785e-08 ... 1.52511337e-09\n  1.05029541e-09 7.34491135e-10]\n [1.94395327e-07 1.28566157e-07 8.10843375e-08 ... 2.78548207e-09\n  1.97134087e-09 1.39408241e-09]\n [4.34949044e-07 2.97700808e-07 1.93631536e-07 ... 5.16593079e-09\n  3.69141007e-09 2.60766031e-09]\n ...\n [1.27543260e-07 1.95329520e-07 2.97329109e-07 ... 1.11748286e-01\n  1.31413490e-01 1.50245264e-01]\n [7.76838220e-08 1.19743959e-07 1.83456962e-07 ... 8.29441100e-02\n  9.98939350e-02 1.16964452e-01]\n [4.69504009e-08 7.28407770e-08 1.12322880e-07 ... 5.99896125e-02\n  7.39917979e-02 8.87262672e-02]]\n"
     ],
     "output_type": "stream"
    },
    {
     "name": "stderr",
     "text": [
      "/Users/peixiaoqi/anaconda3/lib/python3.7/site-packages/ipykernel_launcher.py:11: DeprecationWarning: `np.bool` is a deprecated alias for the builtin `bool`. To silence this warning, use `bool` by itself. Doing this will not modify any behavior and is safe. If you specifically wanted the numpy scalar type, use `np.bool_` here.\nDeprecated in NumPy 1.20; for more details and guidance: https://numpy.org/devdocs/release/1.20.0-notes.html#deprecations\n  # This is added back by InteractiveShellApp.init_path()\n"
     ],
     "output_type": "stream"
    },
    {
     "data": {
      "text/plain": "<matplotlib.collections.PathCollection at 0x1a3bb3d4a8>"
     },
     "metadata": {},
     "output_type": "execute_result",
     "execution_count": 14
    },
    {
     "data": {
      "text/plain": "<Figure size 432x288 with 1 Axes>",
      "image/png": "[encoded data removed]"
     },
     "metadata": {
      "needs_background": "light"
     },
     "output_type": "display_data"
    }
   ],
   "source": [
    "domain = 3\n",
    "x_lin = np.linspace(-domain+0.5, domain+0.5, 100)\n",
    "y_lin = np.linspace(-domain, domain, 100)\n",
    "\n",
    "xx, yy = np.meshgrid(x_lin, y_lin)\n",
    "\n",
    "print(xx)\n",
    "X_grid = np.column_stack([xx.flatten(), yy.flatten()])\n",
    "\n",
    "X_vis, y_vis = sklearn.datasets.make_moons(n_samples=1000, noise=noise)\n",
    "mask = y_vis.astype(np.bool)\n",
    "\n",
    "with torch.no_grad():\n",
    "    output = model(torch.from_numpy(X_grid).float())[1]\n",
    "    confidence = output.max(1)[0].numpy()\n",
    "\n",
    "print(output)\n",
    "\n",
    "z = confidence.reshape(xx.shape)\n",
    "print(z)\n",
    "\n",
    "plt.figure()\n",
    "plt.contourf(x_lin, y_lin, z, cmap='cividis')\n",
    "\n",
    "plt.scatter(X_vis[mask,0], X_vis[mask,1])\n",
    "plt.scatter(X_vis[~mask,0], X_vis[~mask,1])\n"
   ],
   "metadata": {
    "collapsed": false,
    "pycharm": {
     "name": "#%%\n",
     "is_executing": false
    }
   }
  },
  {
   "cell_type": "code",
   "execution_count": null,
   "outputs": [],
   "source": [
    "\n"
   ],
   "metadata": {
    "collapsed": false,
    "pycharm": {
     "name": "#%%\n"
    }
   }
  }
 ],
 "metadata": {
  "language_info": {
   "codemirror_mode": {
    "name": "ipython",
    "version": 2
   },
   "file_extension": ".py",
   "mimetype": "text/x-python",
   "name": "python",
   "nbconvert_exporter": "python",
   "pygments_lexer": "ipython2",
   "version": "2.7.6"
  },
  "kernelspec": {
   "name": "python3",
   "language": "python",
   "display_name": "Python 3"
  },
  "pycharm": {
   "stem_cell": {
    "cell_type": "raw",
    "source": [],
    "metadata": {
     "collapsed": false
    }
   }
  }
 },
 "nbformat": 4,
 "nbformat_minor": 0
}